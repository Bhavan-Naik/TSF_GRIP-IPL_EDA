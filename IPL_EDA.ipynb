{
  "nbformat": 4,
  "nbformat_minor": 0,
  "metadata": {
    "colab": {
      "name": "IPL_EDA.ipynb",
      "provenance": [],
      "collapsed_sections": []
    },
    "kernelspec": {
      "name": "python3",
      "display_name": "Python 3"
    },
    "language_info": {
      "name": "python"
    }
  },
  "cells": [
    {
      "cell_type": "code",
      "metadata": {
        "colab": {
          "base_uri": "https://localhost:8080/"
        },
        "id": "2MyBUR-0ID_r",
        "outputId": "1bcdab65-4694-4922-c73b-9d81d645d420"
      },
      "source": [
        "#Exploratory Data Analysis on IPL data collected from 2008-2019 \n",
        "!wget https://github.com/Bhavan-Naik/TSF_GRIP-IPL_EDA/raw/main/Indian%20Premier%20League.zip\n",
        "!unzip \"Indian Premier League.zip\""
      ],
      "execution_count": 1,
      "outputs": [
        {
          "output_type": "stream",
          "text": [
            "--2021-07-14 18:26:51--  https://github.com/Bhavan-Naik/TSF_GRIP-IPL_EDA/raw/main/Indian%20Premier%20League.zip\n",
            "Resolving github.com (github.com)... 52.192.72.89\n",
            "Connecting to github.com (github.com)|52.192.72.89|:443... connected.\n",
            "HTTP request sent, awaiting response... 302 Found\n",
            "Location: https://raw.githubusercontent.com/Bhavan-Naik/TSF_GRIP-IPL_EDA/main/Indian%20Premier%20League.zip [following]\n",
            "--2021-07-14 18:26:52--  https://raw.githubusercontent.com/Bhavan-Naik/TSF_GRIP-IPL_EDA/main/Indian%20Premier%20League.zip\n",
            "Resolving raw.githubusercontent.com (raw.githubusercontent.com)... 185.199.108.133, 185.199.109.133, 185.199.110.133, ...\n",
            "Connecting to raw.githubusercontent.com (raw.githubusercontent.com)|185.199.108.133|:443... connected.\n",
            "HTTP request sent, awaiting response... 200 OK\n",
            "Length: 1260993 (1.2M) [application/zip]\n",
            "Saving to: ‘Indian Premier League.zip’\n",
            "\n",
            "Indian Premier Leag 100%[===================>]   1.20M  --.-KB/s    in 0.07s   \n",
            "\n",
            "2021-07-14 18:26:52 (18.0 MB/s) - ‘Indian Premier League.zip’ saved [1260993/1260993]\n",
            "\n",
            "Archive:  Indian Premier League.zip\n",
            "  inflating: deliveries.csv          \n",
            "  inflating: matches.csv             \n"
          ],
          "name": "stdout"
        }
      ]
    },
    {
      "cell_type": "code",
      "metadata": {
        "id": "-zVJ2bVFJQWs",
        "colab": {
          "base_uri": "https://localhost:8080/"
        },
        "outputId": "e50525ed-f2d8-4b71-ef3f-97abe1c6d594"
      },
      "source": [
        "#Import Libraries and Read Data\n",
        "print(\"The conclusions in this project are based on data in the IPL from 2008-2019\")\n",
        "import pandas as pd\n",
        "import numpy as np\n",
        "import matplotlib.pyplot as plt\n",
        "import re"
      ],
      "execution_count": 2,
      "outputs": [
        {
          "output_type": "stream",
          "text": [
            "The conclusions in this project are based on data in the IPL from 2008-2019\n"
          ],
          "name": "stdout"
        }
      ]
    },
    {
      "cell_type": "code",
      "metadata": {
        "id": "xYH40P9EfH4m"
      },
      "source": [
        "#Read Data\n",
        "matches=pd.read_csv(\"matches.csv\")\n",
        "all_deliveries=pd.read_csv(\"deliveries.csv\")"
      ],
      "execution_count": 3,
      "outputs": []
    },
    {
      "cell_type": "code",
      "metadata": {
        "colab": {
          "base_uri": "https://localhost:8080/"
        },
        "id": "kwbrY53ab3Ow",
        "outputId": "d513a46f-23c5-4a55-e4d7-d76ad105eec3"
      },
      "source": [
        "print(\"Teams:\\n\",(matches[\"team1\"]).unique())"
      ],
      "execution_count": 4,
      "outputs": [
        {
          "output_type": "stream",
          "text": [
            "Teams:\n",
            " ['Sunrisers Hyderabad' 'Mumbai Indians' 'Gujarat Lions'\n",
            " 'Rising Pune Supergiant' 'Royal Challengers Bangalore'\n",
            " 'Kolkata Knight Riders' 'Delhi Daredevils' 'Kings XI Punjab'\n",
            " 'Chennai Super Kings' 'Rajasthan Royals' 'Deccan Chargers'\n",
            " 'Kochi Tuskers Kerala' 'Pune Warriors' 'Rising Pune Supergiants'\n",
            " 'Delhi Capitals']\n"
          ],
          "name": "stdout"
        }
      ]
    },
    {
      "cell_type": "code",
      "metadata": {
        "colab": {
          "base_uri": "https://localhost:8080/"
        },
        "id": "ctaqgLzdeJFQ",
        "outputId": "b250590b-7d6a-4abe-f294-1a0018403b0c"
      },
      "source": [
        "#Data Cleaning\n",
        "matches[\"team1\"].replace({\"Rising Pune Supergiant\": \"Rising Pune Supergiants\", \"Delhi Capitals\": \"Delhi Daredevils\", \"Sunrisers Hyderabad\": \"SunRisers Hyderabad\", \"Pune Warriors\":\"Pune Warriors India\"}, inplace=True)\n",
        "matches[\"team2\"].replace({\"Rising Pune Supergiant\": \"Rising Pune Supergiants\", \"Delhi Capitals\": \"Delhi Daredevils\", \"Sunrisers Hyderabad\": \"SunRisers Hyderabad\", \"Pune Warriors\":\"Pune Warriors India\"}, inplace=True)\n",
        "matches[\"winner\"].replace({\"Rising Pune Supergiant\": \"Rising Pune Supergiants\", \"Delhi Capitals\": \"Delhi Daredevils\", \"Sunrisers Hyderabad\": \"SunRisers Hyderabad\", \"Pune Warriors\":\"Pune Warriors India\"}, inplace=True)\n",
        "matches[\"toss_winner\"].replace({\"Rising Pune Supergiant\": \"Rising Pune Supergiants\", \"Delhi Capitals\": \"Delhi Daredevils\", \"Sunrisers Hyderabad\": \"SunRisers Hyderabad\", \"Pune Warriors\":\"Pune Warriors India\"}, inplace=True)\n",
        "teams=matches[\"team1\"].unique()\n",
        "teams.sort()\n",
        "#To consider only the main 8 teams, uncomment the next line:\n",
        "#teams=[\"Chennai Super Kings\",\"Delhi Daredevils\",\"Kings XI Punjab\",\"Kolkata Knight Riders\",\"Mumbai Indians\",\"Rajasthan Royals\",\"Royal Challengers Bangalore\",\"SunRisers Hyderabad\"]\n",
        "print(\"Teams:\\n\",(teams))"
      ],
      "execution_count": 5,
      "outputs": [
        {
          "output_type": "stream",
          "text": [
            "Teams:\n",
            " ['Chennai Super Kings' 'Deccan Chargers' 'Delhi Daredevils'\n",
            " 'Gujarat Lions' 'Kings XI Punjab' 'Kochi Tuskers Kerala'\n",
            " 'Kolkata Knight Riders' 'Mumbai Indians' 'Pune Warriors India'\n",
            " 'Rajasthan Royals' 'Rising Pune Supergiants'\n",
            " 'Royal Challengers Bangalore' 'SunRisers Hyderabad']\n"
          ],
          "name": "stdout"
        }
      ]
    },
    {
      "cell_type": "code",
      "metadata": {
        "colab": {
          "base_uri": "https://localhost:8080/"
        },
        "id": "eGZC_P-SjN28",
        "outputId": "3dfc8e9e-b7ff-4a9e-ab2a-379be64e47fc"
      },
      "source": [
        "#Assign Short-Forms of Teams\n",
        "teams_1=[]\n",
        "for i in teams:\n",
        "    teams_1.append(''.join([c for c in i if c.isupper()]))\n",
        "print(teams_1)"
      ],
      "execution_count": 6,
      "outputs": [
        {
          "output_type": "stream",
          "text": [
            "['CSK', 'DC', 'DD', 'GL', 'KXIP', 'KTK', 'KKR', 'MI', 'PWI', 'RR', 'RPS', 'RCB', 'SRH']\n"
          ],
          "name": "stdout"
        }
      ]
    },
    {
      "cell_type": "code",
      "metadata": {
        "id": "mJ2KpqwCD5jI"
      },
      "source": [
        "#Assigning Colors to Teams\n",
        "if len(teams_1)==8:\n",
        "  cols=['#F9CD05','#282968','#DC143C','#3A225D','#004BA0','#FFC0CB','#FF0000','#FF822A']\n",
        "  edge=['#1D418C','#C02826','#A7A9AC','#B3A123','#D1AB3E','#254AA5','#000000','#000000']\n",
        "else:\n",
        "  cols=['#F9CD05','#366293','#282968','#E04F16','#DC143C','#FF4500','#3A225D','#004BA0','#2F9BE3','#FFC0CB','#D11D9B','#FF0000','#FF822A']\n",
        "  edge=['#1D418C','#D9E3EF','#C02826','#18089C','#A7A9AC','#7F3F98','#B3A123','#D1AB3E','#C0D6EB','#254AA5','#FF8209','#000000','#000000']"
      ],
      "execution_count": 7,
      "outputs": []
    },
    {
      "cell_type": "code",
      "metadata": {
        "colab": {
          "base_uri": "https://localhost:8080/"
        },
        "id": "jN3GwnmwbaET",
        "outputId": "ac21a4bf-f119-4c4e-8595-ef0d2cb82524"
      },
      "source": [
        "#Finding the most successful team\n",
        "winners=matches[matches[\"season\"].diff(-1)!=0].sort_values(by=\"season\")\n",
        "trophies_won=[]\n",
        "for i in teams:\n",
        "  trophies_won.append(winners[\"winner\"].str.count(i).sum())\n",
        "print(trophies_won)"
      ],
      "execution_count": 8,
      "outputs": [
        {
          "output_type": "stream",
          "text": [
            "[3, 1, 0, 0, 0, 0, 2, 4, 0, 1, 0, 0, 1]\n"
          ],
          "name": "stdout"
        }
      ]
    },
    {
      "cell_type": "code",
      "metadata": {
        "colab": {
          "base_uri": "https://localhost:8080/"
        },
        "id": "dGkga2-ggrbM",
        "outputId": "3877bbd4-4e7c-4021-a914-420d07876858"
      },
      "source": [
        "#Most Successful Team in terms of Trophies Won\n",
        "success=dict(zip(teams,trophies_won))\n",
        "success=dict(sorted(success.items(), key=lambda x: x[1], reverse=True))\n",
        "print(\"Trophies Won by Teams:\")\n",
        "print(\"{:<30} {:<30}\".format('TEAM', 'TROPHIES'))\n",
        "for key, value in success.items():\n",
        "  if value!=0:\n",
        "    print(\"{:<30} {:<30}\".format(key, value))"
      ],
      "execution_count": 9,
      "outputs": [
        {
          "output_type": "stream",
          "text": [
            "Trophies Won by Teams:\n",
            "TEAM                           TROPHIES                      \n",
            "Mumbai Indians                 4                             \n",
            "Chennai Super Kings            3                             \n",
            "Kolkata Knight Riders          2                             \n",
            "Deccan Chargers                1                             \n",
            "Rajasthan Royals               1                             \n",
            "SunRisers Hyderabad            1                             \n"
          ],
          "name": "stdout"
        }
      ]
    },
    {
      "cell_type": "code",
      "metadata": {
        "colab": {
          "base_uri": "https://localhost:8080/",
          "height": 282
        },
        "id": "HkJKFcTAiMA3",
        "outputId": "688002d7-e21e-4e74-cd90-f1fa72de0e53"
      },
      "source": [
        "plt.bar(teams_1,trophies_won,color=cols,edgecolor=edge)"
      ],
      "execution_count": 10,
      "outputs": [
        {
          "output_type": "execute_result",
          "data": {
            "text/plain": [
              "<BarContainer object of 13 artists>"
            ]
          },
          "metadata": {
            "tags": []
          },
          "execution_count": 10
        },
        {
          "output_type": "display_data",
          "data": {
            "image/png": "[encoded data removed]",
            "text/plain": [
              "<Figure size 432x288 with 1 Axes>"
            ]
          },
          "metadata": {
            "tags": [],
            "needs_background": "light"
          }
        }
      ]
    },
    {
      "cell_type": "code",
      "metadata": {
        "colab": {
          "base_uri": "https://localhost:8080/"
        },
        "id": "L_e5hktNhNcq",
        "outputId": "d542513a-c324-43e0-afea-95584ec8d806"
      },
      "source": [
        "successful=next(iter((success.items())))\n",
        "print(\"The Most Successful Team is **\"+successful[0]+\"**\\nThey have won \"+str(successful[1])+\" IPL trophies.\")"
      ],
      "execution_count": 11,
      "outputs": [
        {
          "output_type": "stream",
          "text": [
            "The Most Successful Team is **Mumbai Indians**\n",
            "They have won 4 IPL trophies.\n"
          ],
          "name": "stdout"
        }
      ]
    },
    {
      "cell_type": "code",
      "metadata": {
        "id": "ktssgg-TfD0N",
        "colab": {
          "base_uri": "https://localhost:8080/"
        },
        "outputId": "668cbfc7-4fc0-445a-d61d-b80be17e2a2e"
      },
      "source": [
        "#Count number of Home Matches\n",
        "home_matches_count=[]\n",
        "for i in teams:\n",
        "  home_matches_count.append(matches['team1'].str.count(str(i)).sum())\n",
        "print(home_matches_count)"
      ],
      "execution_count": 12,
      "outputs": [
        {
          "output_type": "stream",
          "text": [
            "[89, 43, 78, 14, 91, 7, 83, 101, 20, 67, 15, 85, 63]\n"
          ],
          "name": "stdout"
        }
      ]
    },
    {
      "cell_type": "code",
      "metadata": {
        "id": "TsSV81cUoaot",
        "colab": {
          "base_uri": "https://localhost:8080/"
        },
        "outputId": "d7049d7e-f5cd-4e8e-ed94-7da0d53126a6"
      },
      "source": [
        "#Count number of Away Matches\n",
        "away_matches_count=[]\n",
        "for i in teams:\n",
        "  away_matches_count.append((matches['team2'].str.count(i).sum()))\n",
        "print(away_matches_count)"
      ],
      "execution_count": 13,
      "outputs": [
        {
          "output_type": "stream",
          "text": [
            "[75, 32, 99, 16, 85, 7, 95, 86, 26, 80, 15, 95, 45]\n"
          ],
          "name": "stdout"
        }
      ]
    },
    {
      "cell_type": "code",
      "metadata": {
        "id": "MZd8_65xL5EZ",
        "colab": {
          "base_uri": "https://localhost:8080/"
        },
        "outputId": "27240efb-55e8-4471-8c98-723e37babad1"
      },
      "source": [
        "#Add both arrays to find Total Matches\n",
        "total_matches=[]\n",
        "for i in range(len(teams)):\n",
        "  total_matches.append(home_matches_count[i]+away_matches_count[i])\n",
        "print(total_matches)"
      ],
      "execution_count": 14,
      "outputs": [
        {
          "output_type": "stream",
          "text": [
            "[164, 75, 177, 30, 176, 14, 178, 187, 46, 147, 30, 180, 108]\n"
          ],
          "name": "stdout"
        }
      ]
    },
    {
      "cell_type": "code",
      "metadata": {
        "id": "Z5jCgRHUozlq",
        "colab": {
          "base_uri": "https://localhost:8080/"
        },
        "outputId": "763b8e63-2db2-426b-f6d0-93d42ec13295"
      },
      "source": [
        "#Count number of Matches Won\n",
        "won_matches_count=[]\n",
        "for i in teams:\n",
        "  won_matches_count.append(matches['winner'].str.count(i).sum())\n",
        "print(won_matches_count)"
      ],
      "execution_count": 15,
      "outputs": [
        {
          "output_type": "stream",
          "text": [
            "[100.0, 29.0, 77.0, 13.0, 82.0, 6.0, 92.0, 109.0, 12.0, 75.0, 15.0, 84.0, 58.0]\n"
          ],
          "name": "stdout"
        }
      ]
    },
    {
      "cell_type": "code",
      "metadata": {
        "id": "Lx7NrTE_phBq",
        "colab": {
          "base_uri": "https://localhost:8080/"
        },
        "outputId": "713409ba-2664-4f4e-8e85-008a8cd44642"
      },
      "source": [
        "#Winning percentage of each team\n",
        "winning_percentage=[]\n",
        "for i in range(len(teams)):\n",
        "  winning_percentage.append(float('{0:.4g}'.format(won_matches_count[i]*100/total_matches[i])))\n",
        "print(winning_percentage)"
      ],
      "execution_count": 16,
      "outputs": [
        {
          "output_type": "stream",
          "text": [
            "[60.98, 38.67, 43.5, 43.33, 46.59, 42.86, 51.69, 58.29, 26.09, 51.02, 50.0, 46.67, 53.7]\n"
          ],
          "name": "stdout"
        }
      ]
    },
    {
      "cell_type": "code",
      "metadata": {
        "id": "l5CsO-Mkp_Hr",
        "colab": {
          "base_uri": "https://localhost:8080/"
        },
        "outputId": "4d399c60-491d-4fb3-9a8f-854a45cd290b"
      },
      "source": [
        "#Overall Records\n",
        "overall=dict(zip(teams,winning_percentage))\n",
        "overall=dict(sorted(overall.items(), key=lambda x: x[1], reverse=True))\n",
        "print(\"Overall Winning Percentage for Teams:\")\n",
        "print(\"{:<30} {:<30}\".format('TEAM', 'WIN %'))\n",
        "for key, value in overall.items():\n",
        "  print(\"{:<30} {:<30}\".format(key, value))"
      ],
      "execution_count": 17,
      "outputs": [
        {
          "output_type": "stream",
          "text": [
            "Overall Winning Percentage for Teams:\n",
            "TEAM                           WIN %                         \n",
            "Chennai Super Kings            60.98                         \n",
            "Mumbai Indians                 58.29                         \n",
            "SunRisers Hyderabad            53.7                          \n",
            "Kolkata Knight Riders          51.69                         \n",
            "Rajasthan Royals               51.02                         \n",
            "Rising Pune Supergiants        50.0                          \n",
            "Royal Challengers Bangalore    46.67                         \n",
            "Kings XI Punjab                46.59                         \n",
            "Delhi Daredevils               43.5                          \n",
            "Gujarat Lions                  43.33                         \n",
            "Kochi Tuskers Kerala           42.86                         \n",
            "Deccan Chargers                38.67                         \n",
            "Pune Warriors India            26.09                         \n"
          ],
          "name": "stdout"
        }
      ]
    },
    {
      "cell_type": "code",
      "metadata": {
        "colab": {
          "base_uri": "https://localhost:8080/",
          "height": 282
        },
        "id": "RT1AODk49GfS",
        "outputId": "7946d33e-6829-44e7-b71f-50bc5632fac2"
      },
      "source": [
        "plt.bar(teams_1,winning_percentage,color=cols,edgecolor=edge)"
      ],
      "execution_count": 18,
      "outputs": [
        {
          "output_type": "execute_result",
          "data": {
            "text/plain": [
              "<BarContainer object of 13 artists>"
            ]
          },
          "metadata": {
            "tags": []
          },
          "execution_count": 18
        },
        {
          "output_type": "display_data",
          "data": {
            "image/png": "[encoded data removed]",
            "text/plain": [
              "<Figure size 432x288 with 1 Axes>"
            ]
          },
          "metadata": {
            "tags": [],
            "needs_background": "light"
          }
        }
      ]
    },
    {
      "cell_type": "code",
      "metadata": {
        "id": "Y6yMnwiCrgbp",
        "colab": {
          "base_uri": "https://localhost:8080/"
        },
        "outputId": "0e4f10d9-f6ae-49b6-8cbf-9c6d2478923d"
      },
      "source": [
        "consistent=next(iter((overall.items())))\n",
        "print(\"The Most Consistent Team is: **\"+consistent[0]+\"** \\nWith win percentage of \"+str(consistent[1])+\" overall.\")"
      ],
      "execution_count": 19,
      "outputs": [
        {
          "output_type": "stream",
          "text": [
            "The Most Consistent Team is: **Chennai Super Kings** \n",
            "With win percentage of 60.98 overall.\n"
          ],
          "name": "stdout"
        }
      ]
    },
    {
      "cell_type": "code",
      "metadata": {
        "colab": {
          "base_uri": "https://localhost:8080/"
        },
        "id": "m6a6AVnWt382",
        "outputId": "c3ed1fbd-1714-40b8-f740-a93bfbe24db7"
      },
      "source": [
        "#Super Overs Records for Teams\n",
        "super_overs=matches[matches[\"result\"]==\"tie\"]\n",
        "total_super_overs_played=[]\n",
        "super_overs_won=[]\n",
        "for i in teams:\n",
        "  total_super_overs_played.append(len(super_overs[(super_overs[\"team1\"]==i) | (super_overs[\"team2\"]==i)]))\n",
        "  super_overs_won.append(len(super_overs[super_overs[\"winner\"]==i]))\n",
        "print(total_super_overs_played)\n",
        "print(super_overs_won)"
      ],
      "execution_count": 20,
      "outputs": [
        {
          "output_type": "stream",
          "text": [
            "[1, 0, 2, 1, 2, 0, 3, 2, 0, 3, 0, 2, 2]\n",
            "[0, 0, 1, 0, 2, 0, 0, 2, 0, 2, 0, 1, 1]\n"
          ],
          "name": "stdout"
        }
      ]
    },
    {
      "cell_type": "code",
      "metadata": {
        "colab": {
          "base_uri": "https://localhost:8080/"
        },
        "id": "BzDZXWStvh3v",
        "outputId": "b04ca165-f78a-44ef-a43d-6dca95d3ad3c"
      },
      "source": [
        "#Super Over Win Percentage\n",
        "super_over_percentage=[]\n",
        "super_over_teams=[]\n",
        "super_over_abb=[]\n",
        "super_over_cols=[]\n",
        "super_over_edge=[]\n",
        "for i in range(len(teams)):\n",
        "  if total_super_overs_played[i]!=0:\n",
        "    super_over_percentage.append(float('{0:.4g}'.format(super_overs_won[i]*100/total_super_overs_played[i])))\n",
        "    super_over_teams.append(teams[i])\n",
        "    super_over_abb.append(teams_1[i])\n",
        "    super_over_cols.append(cols[i])\n",
        "    super_over_edge.append(edge[i])\n",
        "print(super_over_percentage)"
      ],
      "execution_count": 21,
      "outputs": [
        {
          "output_type": "stream",
          "text": [
            "[0.0, 50.0, 0.0, 100.0, 0.0, 100.0, 66.67, 50.0, 50.0]\n"
          ],
          "name": "stdout"
        }
      ]
    },
    {
      "cell_type": "code",
      "metadata": {
        "colab": {
          "base_uri": "https://localhost:8080/"
        },
        "id": "X0_LL_02wGDW",
        "outputId": "b592e787-0dc1-4e7c-8c87-d3e552ba4117"
      },
      "source": [
        "#Super Over Records\n",
        "super_over_records=dict(zip(super_over_teams,super_over_percentage))\n",
        "super_over_records=dict(sorted(super_over_records.items(), key=lambda x: x[1], reverse=True))\n",
        "print(\"Super Overs Winning Percentage for Teams:\")\n",
        "print(\"{:<30} {:<30}\".format('TEAM', 'WIN %'))\n",
        "for key, value in super_over_records.items():\n",
        "  print(\"{:<30} {:<30}\".format(key, value))"
      ],
      "execution_count": 22,
      "outputs": [
        {
          "output_type": "stream",
          "text": [
            "Super Overs Winning Percentage for Teams:\n",
            "TEAM                           WIN %                         \n",
            "Kings XI Punjab                100.0                         \n",
            "Mumbai Indians                 100.0                         \n",
            "Rajasthan Royals               66.67                         \n",
            "Delhi Daredevils               50.0                          \n",
            "Royal Challengers Bangalore    50.0                          \n",
            "SunRisers Hyderabad            50.0                          \n",
            "Chennai Super Kings            0.0                           \n",
            "Gujarat Lions                  0.0                           \n",
            "Kolkata Knight Riders          0.0                           \n"
          ],
          "name": "stdout"
        }
      ]
    },
    {
      "cell_type": "code",
      "metadata": {
        "colab": {
          "base_uri": "https://localhost:8080/",
          "height": 282
        },
        "id": "7znnVKkPxSJZ",
        "outputId": "cf256f56-c216-4cc8-8c2b-9081806088e1"
      },
      "source": [
        "plt.bar(super_over_abb,super_over_percentage,color=super_over_cols,edgecolor=super_over_edge)"
      ],
      "execution_count": 23,
      "outputs": [
        {
          "output_type": "execute_result",
          "data": {
            "text/plain": [
              "<BarContainer object of 9 artists>"
            ]
          },
          "metadata": {
            "tags": []
          },
          "execution_count": 23
        },
        {
          "output_type": "display_data",
          "data": {
            "image/png": "[encoded data removed]",
            "text/plain": [
              "<Figure size 432x288 with 1 Axes>"
            ]
          },
          "metadata": {
            "tags": [],
            "needs_background": "light"
          }
        }
      ]
    },
    {
      "cell_type": "code",
      "metadata": {
        "colab": {
          "base_uri": "https://localhost:8080/"
        },
        "id": "gABTWtRJx-cQ",
        "outputId": "2a64ec68-3a71-4430-ea40-520e1b1330fe"
      },
      "source": [
        "sup=[]\n",
        "for i in range(len(super_over_percentage)):\n",
        "  if super_over_percentage[i]==100:\n",
        "    sup.append(super_over_teams[i])\n",
        "print(\"Two teams have \"+str(max(super_over_percentage))+\"% win ratio in super overs.\\nThey are: \"+str(sup[0])+\" and \"+str(sup[1])+\".\")"
      ],
      "execution_count": 24,
      "outputs": [
        {
          "output_type": "stream",
          "text": [
            "Two teams have 100.0% win ratio in super overs.\n",
            "They are: Kings XI Punjab and Mumbai Indians.\n"
          ],
          "name": "stdout"
        }
      ]
    },
    {
      "cell_type": "code",
      "metadata": {
        "id": "8NOAa1rBOT8N",
        "colab": {
          "base_uri": "https://localhost:8080/"
        },
        "outputId": "9d6a1611-ca1b-455b-cd12-b1a4d25376f9"
      },
      "source": [
        "#Count number of Home Matches Won\n",
        "home_matches_won=[]\n",
        "for i in teams:\n",
        "  df_i=matches[matches[\"team1\"]==i]\n",
        "  home_matches_won.append(df_i[\"winner\"].str.count(i).sum())\n",
        "print(home_matches_won)"
      ],
      "execution_count": 25,
      "outputs": [
        {
          "output_type": "stream",
          "text": [
            "[51, 18, 28.0, 1, 38, 2, 34, 58, 6, 29, 5, 35.0, 30]\n"
          ],
          "name": "stdout"
        }
      ]
    },
    {
      "cell_type": "code",
      "metadata": {
        "id": "7i0nFNVDRErl",
        "colab": {
          "base_uri": "https://localhost:8080/"
        },
        "outputId": "1f44fb19-41ed-4c27-a16c-885391c01e3a"
      },
      "source": [
        "#Home Winning Percentage\n",
        "home_win_percentage=[]\n",
        "for i in range(len(teams)):\n",
        "  home_win_percentage.append(float('{0:.4g}'.format(home_matches_won[i]*100/home_matches_count[i])))\n",
        "print(home_win_percentage)"
      ],
      "execution_count": 26,
      "outputs": [
        {
          "output_type": "stream",
          "text": [
            "[57.3, 41.86, 35.9, 7.143, 41.76, 28.57, 40.96, 57.43, 30.0, 43.28, 33.33, 41.18, 47.62]\n"
          ],
          "name": "stdout"
        }
      ]
    },
    {
      "cell_type": "code",
      "metadata": {
        "id": "q80W_TucP2c0",
        "colab": {
          "base_uri": "https://localhost:8080/"
        },
        "outputId": "8e3a5748-993a-4ceb-d85b-89bbae693515"
      },
      "source": [
        "#Home Records\n",
        "home_records=dict(zip(teams,home_win_percentage))\n",
        "home_records=dict(sorted(home_records.items(), key=lambda x: x[1], reverse=True))\n",
        "print(\"Home Winning Records for Teams:\")\n",
        "print(\"{:<30} {:<30}\".format('TEAM', 'HOME WIN %'))\n",
        "for key, value in home_records.items():\n",
        "  print(\"{:<30} {:<30}\".format(key, value))"
      ],
      "execution_count": 27,
      "outputs": [
        {
          "output_type": "stream",
          "text": [
            "Home Winning Records for Teams:\n",
            "TEAM                           HOME WIN %                    \n",
            "Mumbai Indians                 57.43                         \n",
            "Chennai Super Kings            57.3                          \n",
            "SunRisers Hyderabad            47.62                         \n",
            "Rajasthan Royals               43.28                         \n",
            "Deccan Chargers                41.86                         \n",
            "Kings XI Punjab                41.76                         \n",
            "Royal Challengers Bangalore    41.18                         \n",
            "Kolkata Knight Riders          40.96                         \n",
            "Delhi Daredevils               35.9                          \n",
            "Rising Pune Supergiants        33.33                         \n",
            "Pune Warriors India            30.0                          \n",
            "Kochi Tuskers Kerala           28.57                         \n",
            "Gujarat Lions                  7.143                         \n"
          ],
          "name": "stdout"
        }
      ]
    },
    {
      "cell_type": "code",
      "metadata": {
        "colab": {
          "base_uri": "https://localhost:8080/",
          "height": 285
        },
        "id": "aria-LdPC8uo",
        "outputId": "879f7615-d136-44f7-da9c-731ac5b8ec4c"
      },
      "source": [
        "plt.bar(teams_1,home_win_percentage,color=cols,edgecolor=edge)"
      ],
      "execution_count": 28,
      "outputs": [
        {
          "output_type": "execute_result",
          "data": {
            "text/plain": [
              "<BarContainer object of 13 artists>"
            ]
          },
          "metadata": {
            "tags": []
          },
          "execution_count": 28
        },
        {
          "output_type": "display_data",
          "data": {
            "image/png": "[encoded data removed]",
            "text/plain": [
              "<Figure size 432x288 with 1 Axes>"
            ]
          },
          "metadata": {
            "tags": [],
            "needs_background": "light"
          }
        }
      ]
    },
    {
      "cell_type": "code",
      "metadata": {
        "id": "-g8vWqP1RVy0",
        "colab": {
          "base_uri": "https://localhost:8080/"
        },
        "outputId": "cf6cd73a-9366-4d49-9d06-091ccaf2f0a3"
      },
      "source": [
        "fortress=next(iter((home_records.items())))\n",
        "print(\"Best Team at Home: **\"+fortress[0]+\"** \\nWith win percentage of \"+str(fortress[1])+\" when they play at home.\")"
      ],
      "execution_count": 29,
      "outputs": [
        {
          "output_type": "stream",
          "text": [
            "Best Team at Home: **Mumbai Indians** \n",
            "With win percentage of 57.43 when they play at home.\n"
          ],
          "name": "stdout"
        }
      ]
    },
    {
      "cell_type": "code",
      "metadata": {
        "id": "T2xPlcY4Pgdd",
        "colab": {
          "base_uri": "https://localhost:8080/"
        },
        "outputId": "d9579b28-f9ad-405c-b26b-11271d69b5df"
      },
      "source": [
        "#Count number of Away Matches Won\n",
        "away_matches_won=[]\n",
        "for i in teams:\n",
        "  df_i=matches[matches[\"team2\"]==i]\n",
        "  away_matches_won.append(df_i[\"winner\"].str.count(i).sum())\n",
        "print(away_matches_won)"
      ],
      "execution_count": 30,
      "outputs": [
        {
          "output_type": "stream",
          "text": [
            "[49, 11, 49, 12, 44, 4, 58, 51, 6.0, 46.0, 10, 49.0, 28]\n"
          ],
          "name": "stdout"
        }
      ]
    },
    {
      "cell_type": "code",
      "metadata": {
        "id": "lVPG4wiVRtnG",
        "colab": {
          "base_uri": "https://localhost:8080/"
        },
        "outputId": "5d7c52b8-c1e2-46d6-ff6c-d5533a835c90"
      },
      "source": [
        "#Away Winning Percentage\n",
        "away_win_percentage=[]\n",
        "for i in range(len(teams)):\n",
        "  away_win_percentage.append(float('{0:.4g}'.format(away_matches_won[i]*100/away_matches_count[i])))\n",
        "print(away_win_percentage)"
      ],
      "execution_count": 31,
      "outputs": [
        {
          "output_type": "stream",
          "text": [
            "[65.33, 34.38, 49.49, 75.0, 51.76, 57.14, 61.05, 59.3, 23.08, 57.5, 66.67, 51.58, 62.22]\n"
          ],
          "name": "stdout"
        }
      ]
    },
    {
      "cell_type": "code",
      "metadata": {
        "id": "Bx2SndfdRtw1",
        "colab": {
          "base_uri": "https://localhost:8080/"
        },
        "outputId": "f0a928a6-5c58-4232-b3ff-e6be54ecf776"
      },
      "source": [
        "#Away Records\n",
        "away_records=dict(zip(teams,away_win_percentage))\n",
        "away_records=dict(sorted(away_records.items(), key=lambda x: x[1], reverse=True))\n",
        "print(\"Away Winning Records for Teams:\")\n",
        "print(\"{:<30} {:<30}\".format('TEAM', 'AWAY WIN %'))\n",
        "for key, value in away_records.items():\n",
        "  print(\"{:<30} {:<30}\".format(key, value))"
      ],
      "execution_count": 32,
      "outputs": [
        {
          "output_type": "stream",
          "text": [
            "Away Winning Records for Teams:\n",
            "TEAM                           AWAY WIN %                    \n",
            "Gujarat Lions                  75.0                          \n",
            "Rising Pune Supergiants        66.67                         \n",
            "Chennai Super Kings            65.33                         \n",
            "SunRisers Hyderabad            62.22                         \n",
            "Kolkata Knight Riders          61.05                         \n",
            "Mumbai Indians                 59.3                          \n",
            "Rajasthan Royals               57.5                          \n",
            "Kochi Tuskers Kerala           57.14                         \n",
            "Kings XI Punjab                51.76                         \n",
            "Royal Challengers Bangalore    51.58                         \n",
            "Delhi Daredevils               49.49                         \n",
            "Deccan Chargers                34.38                         \n",
            "Pune Warriors India            23.08                         \n"
          ],
          "name": "stdout"
        }
      ]
    },
    {
      "cell_type": "code",
      "metadata": {
        "colab": {
          "base_uri": "https://localhost:8080/",
          "height": 282
        },
        "id": "WLsnt3ubDGQA",
        "outputId": "29a5626b-e78f-4483-bcef-71eb1a600c06"
      },
      "source": [
        "plt.bar(teams_1,away_win_percentage,color=cols,edgecolor=edge)"
      ],
      "execution_count": 33,
      "outputs": [
        {
          "output_type": "execute_result",
          "data": {
            "text/plain": [
              "<BarContainer object of 13 artists>"
            ]
          },
          "metadata": {
            "tags": []
          },
          "execution_count": 33
        },
        {
          "output_type": "display_data",
          "data": {
            "image/png": "[encoded data removed]",
            "text/plain": [
              "<Figure size 432x288 with 1 Axes>"
            ]
          },
          "metadata": {
            "tags": [],
            "needs_background": "light"
          }
        }
      ]
    },
    {
      "cell_type": "code",
      "metadata": {
        "id": "triHMA24SKdR",
        "colab": {
          "base_uri": "https://localhost:8080/"
        },
        "outputId": "a137db61-a72b-4110-cfe5-49a53fc6f15e"
      },
      "source": [
        "attacker=next(iter((away_records.items())))\n",
        "print(\"Best Touring Team: **\"+attacker[0]+\"** \\nWith win percentage of \"+str(attacker[1])+\" when they are the visiting team.\")"
      ],
      "execution_count": 34,
      "outputs": [
        {
          "output_type": "stream",
          "text": [
            "Best Touring Team: **Gujarat Lions** \n",
            "With win percentage of 75.0 when they are the visiting team.\n"
          ],
          "name": "stdout"
        }
      ]
    },
    {
      "cell_type": "code",
      "metadata": {
        "id": "-vdlo5DoS4HK",
        "colab": {
          "base_uri": "https://localhost:8080/"
        },
        "outputId": "7e1b98ea-3eba-4fdb-b80a-f95bf8ae1c0b"
      },
      "source": [
        "#Count Number of Toss Wins\n",
        "toss_wins_count=[]\n",
        "toss_and_match_wins=[]\n",
        "for i in teams:\n",
        "  df_i=matches[matches[\"toss_winner\"]==i]\n",
        "  toss_wins_count.append(len(df_i))\n",
        "  toss_and_match_wins.append(df_i[\"winner\"].str.count(i).sum())\n",
        "print(toss_wins_count)\n",
        "print(toss_and_match_wins)"
      ],
      "execution_count": 35,
      "outputs": [
        {
          "output_type": "stream",
          "text": [
            "[89, 43, 90, 15, 81, 8, 92, 98, 20, 80, 13, 81, 46]\n",
            "[57, 19, 42.0, 10, 35, 4, 53, 56, 3, 42.0, 8, 41.0, 23]\n"
          ],
          "name": "stdout"
        }
      ]
    },
    {
      "cell_type": "code",
      "metadata": {
        "id": "FJ8kc-reVYDS",
        "colab": {
          "base_uri": "https://localhost:8080/"
        },
        "outputId": "cef88bf6-8080-4fa3-b28c-550a5c8fb78f"
      },
      "source": [
        "#Toss Winning Percentage\n",
        "toss_win_match_win_percentage=[]\n",
        "for i in range(len(teams)):\n",
        "  toss_win_match_win_percentage.append(float('{0:.4g}'.format(toss_and_match_wins[i]*100/toss_wins_count[i])))\n",
        "print(toss_win_match_win_percentage)"
      ],
      "execution_count": 36,
      "outputs": [
        {
          "output_type": "stream",
          "text": [
            "[64.04, 44.19, 46.67, 66.67, 43.21, 50.0, 57.61, 57.14, 15.0, 52.5, 61.54, 50.62, 50.0]\n"
          ],
          "name": "stdout"
        }
      ]
    },
    {
      "cell_type": "code",
      "metadata": {
        "id": "hl26Pz-XWRgO",
        "colab": {
          "base_uri": "https://localhost:8080/"
        },
        "outputId": "3b89cb9a-12ce-4922-f4e0-fa87d25c4324"
      },
      "source": [
        "#Toss Win Records\n",
        "toss_win_records=dict(zip(teams,toss_win_match_win_percentage))\n",
        "toss_win_records=dict(sorted(toss_win_records.items(), key=lambda x: x[1], reverse=True))\n",
        "print(\"Toss Win and Match Win Records for Teams:\")\n",
        "print(\"{:<30} {:<30}\".format('TEAM', 'TOSS WIN MATCH WIN %'))\n",
        "for key, value in toss_win_records.items():\n",
        "  print(\"{:<30} {:<30}\".format(key, value))"
      ],
      "execution_count": 37,
      "outputs": [
        {
          "output_type": "stream",
          "text": [
            "Toss Win and Match Win Records for Teams:\n",
            "TEAM                           TOSS WIN MATCH WIN %          \n",
            "Gujarat Lions                  66.67                         \n",
            "Chennai Super Kings            64.04                         \n",
            "Rising Pune Supergiants        61.54                         \n",
            "Kolkata Knight Riders          57.61                         \n",
            "Mumbai Indians                 57.14                         \n",
            "Rajasthan Royals               52.5                          \n",
            "Royal Challengers Bangalore    50.62                         \n",
            "Kochi Tuskers Kerala           50.0                          \n",
            "SunRisers Hyderabad            50.0                          \n",
            "Delhi Daredevils               46.67                         \n",
            "Deccan Chargers                44.19                         \n",
            "Kings XI Punjab                43.21                         \n",
            "Pune Warriors India            15.0                          \n"
          ],
          "name": "stdout"
        }
      ]
    },
    {
      "cell_type": "code",
      "metadata": {
        "colab": {
          "base_uri": "https://localhost:8080/",
          "height": 286
        },
        "id": "61W6W6AkDMxL",
        "outputId": "e8c906bd-4c23-4078-9b0d-82e186c8a8dd"
      },
      "source": [
        "plt.bar(teams_1,toss_win_match_win_percentage,color=cols,edgecolor=edge)"
      ],
      "execution_count": 38,
      "outputs": [
        {
          "output_type": "execute_result",
          "data": {
            "text/plain": [
              "<BarContainer object of 13 artists>"
            ]
          },
          "metadata": {
            "tags": []
          },
          "execution_count": 38
        },
        {
          "output_type": "display_data",
          "data": {
            "image/png": "[encoded data removed]",
            "text/plain": [
              "<Figure size 432x288 with 1 Axes>"
            ]
          },
          "metadata": {
            "tags": [],
            "needs_background": "light"
          }
        }
      ]
    },
    {
      "cell_type": "code",
      "metadata": {
        "id": "YMvHFD2BW1pn",
        "colab": {
          "base_uri": "https://localhost:8080/"
        },
        "outputId": "eb6d8a0e-bc48-4022-e1ec-be0b33d6c65d"
      },
      "source": [
        "win_toss=next(iter((toss_win_records.items())))\n",
        "print(\"The team which is most likely to win if they win the toss is: **\"+win_toss[0]+\"**\\nWith a win percentage of \"+str(win_toss[1])+\" when they win the toss.\")"
      ],
      "execution_count": 39,
      "outputs": [
        {
          "output_type": "stream",
          "text": [
            "The team which is most likely to win if they win the toss is: **Gujarat Lions**\n",
            "With a win percentage of 66.67 when they win the toss.\n"
          ],
          "name": "stdout"
        }
      ]
    },
    {
      "cell_type": "code",
      "metadata": {
        "id": "Ds9gWCl7XboG",
        "colab": {
          "base_uri": "https://localhost:8080/"
        },
        "outputId": "e3806062-ab0b-41aa-9a55-4f01718158bf"
      },
      "source": [
        "#Count Number of Toss Loss\n",
        "toss_loss_count=[0]*len(teams)\n",
        "toss_loss_and_match_wins=[0]*len(teams)\n",
        "for i in range(len(teams)):\n",
        "  toss_loss_count[i]=total_matches[i]-toss_wins_count[i]\n",
        "  toss_loss_and_match_wins[i]=won_matches_count[i]-toss_and_match_wins[i]\n",
        "print(toss_loss_count)\n",
        "print(toss_loss_and_match_wins)"
      ],
      "execution_count": 40,
      "outputs": [
        {
          "output_type": "stream",
          "text": [
            "[75, 32, 87, 15, 95, 6, 86, 89, 26, 67, 17, 99, 62]\n",
            "[43.0, 10.0, 35.0, 3.0, 47.0, 2.0, 39.0, 53.0, 9.0, 33.0, 7.0, 43.0, 35.0]\n"
          ],
          "name": "stdout"
        }
      ]
    },
    {
      "cell_type": "code",
      "metadata": {
        "id": "fFPuGINBXbd3",
        "colab": {
          "base_uri": "https://localhost:8080/"
        },
        "outputId": "94cec86f-e2f1-442c-ae71-6a921074fd94"
      },
      "source": [
        "#Toss Lost and Match Win Percentage\n",
        "toss_loss_match_win_percentage=[]\n",
        "for i in range(len(teams)):\n",
        "  toss_loss_match_win_percentage.append(float('{0:.4g}'.format(toss_loss_and_match_wins[i]*100/toss_loss_count[i])))\n",
        "print(toss_loss_match_win_percentage)"
      ],
      "execution_count": 41,
      "outputs": [
        {
          "output_type": "stream",
          "text": [
            "[57.33, 31.25, 40.23, 20.0, 49.47, 33.33, 45.35, 59.55, 34.62, 49.25, 41.18, 43.43, 56.45]\n"
          ],
          "name": "stdout"
        }
      ]
    },
    {
      "cell_type": "code",
      "metadata": {
        "id": "QTV9xPnLXbR5",
        "colab": {
          "base_uri": "https://localhost:8080/"
        },
        "outputId": "eac45b54-0eff-462d-ce54-424a277393d2"
      },
      "source": [
        "#Toss Loss Records\n",
        "toss_loss_records=dict(zip(teams,toss_loss_match_win_percentage))\n",
        "toss_loss_records=dict(sorted(toss_loss_records.items(), key=lambda x: x[1], reverse=True))\n",
        "print(\"Toss Loss but Match Win Records for Teams:\")\n",
        "print(\"{:<30} {:<30}\".format('TEAM', 'TOSS LOSS MATCH WIN %'))\n",
        "for key, value in toss_loss_records.items():\n",
        "  print(\"{:<30} {:<30}\".format(key, value))"
      ],
      "execution_count": 42,
      "outputs": [
        {
          "output_type": "stream",
          "text": [
            "Toss Loss but Match Win Records for Teams:\n",
            "TEAM                           TOSS LOSS MATCH WIN %         \n",
            "Mumbai Indians                 59.55                         \n",
            "Chennai Super Kings            57.33                         \n",
            "SunRisers Hyderabad            56.45                         \n",
            "Kings XI Punjab                49.47                         \n",
            "Rajasthan Royals               49.25                         \n",
            "Kolkata Knight Riders          45.35                         \n",
            "Royal Challengers Bangalore    43.43                         \n",
            "Rising Pune Supergiants        41.18                         \n",
            "Delhi Daredevils               40.23                         \n",
            "Pune Warriors India            34.62                         \n",
            "Kochi Tuskers Kerala           33.33                         \n",
            "Deccan Chargers                31.25                         \n",
            "Gujarat Lions                  20.0                          \n"
          ],
          "name": "stdout"
        }
      ]
    },
    {
      "cell_type": "code",
      "metadata": {
        "colab": {
          "base_uri": "https://localhost:8080/",
          "height": 282
        },
        "id": "AXTZXXmHDVPR",
        "outputId": "ead352fb-7215-4c31-a540-078b78d0a9b9"
      },
      "source": [
        "plt.bar(teams_1, toss_loss_match_win_percentage,color=cols,edgecolor=edge)"
      ],
      "execution_count": 43,
      "outputs": [
        {
          "output_type": "execute_result",
          "data": {
            "text/plain": [
              "<BarContainer object of 13 artists>"
            ]
          },
          "metadata": {
            "tags": []
          },
          "execution_count": 43
        },
        {
          "output_type": "display_data",
          "data": {
            "image/png": "[encoded data removed]",
            "text/plain": [
              "<Figure size 432x288 with 1 Axes>"
            ]
          },
          "metadata": {
            "tags": [],
            "needs_background": "light"
          }
        }
      ]
    },
    {
      "cell_type": "code",
      "metadata": {
        "id": "IUUsrZjJXbBx",
        "colab": {
          "base_uri": "https://localhost:8080/"
        },
        "outputId": "9408e152-f3b8-49d4-b7da-c16196be7570"
      },
      "source": [
        "lose_toss=next(iter((toss_loss_records.items())))\n",
        "print(\"The team which is most likely to win if they win the toss is: **\"+lose_toss[0]+\"**\\nWith a win percentage of \"+str(lose_toss[1])+\" when they lose the toss.\")"
      ],
      "execution_count": 44,
      "outputs": [
        {
          "output_type": "stream",
          "text": [
            "The team which is most likely to win if they win the toss is: **Mumbai Indians**\n",
            "With a win percentage of 59.55 when they lose the toss.\n"
          ],
          "name": "stdout"
        }
      ]
    },
    {
      "cell_type": "code",
      "metadata": {
        "colab": {
          "base_uri": "https://localhost:8080/"
        },
        "id": "KBigPC-XXkuj",
        "outputId": "f999f37c-2740-43a1-df34-4ed5a304c0cb"
      },
      "source": [
        "#Count Number of First Batting Instances\n",
        "total_bat_first_count=[]\n",
        "bat_first_wins=[]\n",
        "for i in teams:\n",
        "  df_team=matches[(matches[\"team1\"]==i) | (matches[\"team2\"]==i)]\n",
        "  df_i=df_team[((df_team[\"toss_winner\"]==i) & (df_team[\"toss_decision\"]==\"bat\"))] \n",
        "  df_j=df_team[((df_team[\"toss_winner\"]!=i) & (df_team[\"toss_decision\"]==\"field\"))]\n",
        "  total_bat_first_count.append(len(df_i)+len(df_j))\n",
        "  bat_first_wins.append(int(df_i[\"winner\"].str.count(i).sum()+(df_j[\"winner\"].str.count(i).sum())))\n",
        "print(total_bat_first_count)\n",
        "print(bat_first_wins)"
      ],
      "execution_count": 45,
      "outputs": [
        {
          "output_type": "stream",
          "text": [
            "[89, 43, 78, 14, 91, 7, 83, 101, 20, 67, 15, 85, 63]\n",
            "[51, 18, 28, 1, 38, 2, 34, 58, 6, 29, 5, 35, 30]\n"
          ],
          "name": "stdout"
        }
      ]
    },
    {
      "cell_type": "code",
      "metadata": {
        "colab": {
          "base_uri": "https://localhost:8080/"
        },
        "id": "bCIrjRWiZkH8",
        "outputId": "828779fa-b24e-4695-831e-f0c92001c795"
      },
      "source": [
        "#Batting First and Winning Percentage\n",
        "bat_first_match_win_percentage=[]\n",
        "for i in range(len(teams)):\n",
        "  bat_first_match_win_percentage.append(float('{0:.4g}'.format(bat_first_wins[i]*100/total_bat_first_count[i])))\n",
        "print(bat_first_match_win_percentage)"
      ],
      "execution_count": 46,
      "outputs": [
        {
          "output_type": "stream",
          "text": [
            "[57.3, 41.86, 35.9, 7.143, 41.76, 28.57, 40.96, 57.43, 30.0, 43.28, 33.33, 41.18, 47.62]\n"
          ],
          "name": "stdout"
        }
      ]
    },
    {
      "cell_type": "code",
      "metadata": {
        "colab": {
          "base_uri": "https://localhost:8080/"
        },
        "id": "tYakU9JTaAVO",
        "outputId": "c80e5ad9-bfbf-48fa-ee47-acfd5d608b91"
      },
      "source": [
        "#Batting First Records\n",
        "bat_first_records=dict(zip(teams,bat_first_match_win_percentage))\n",
        "bat_first_records=dict(sorted(bat_first_records.items(), key=lambda x: x[1], reverse=True))\n",
        "print(\"Batting First Win Records for Teams:\")\n",
        "print(\"{:<30} {:<30}\".format('TEAM', 'BAT FIRST MATCH WIN %'))\n",
        "for key, value in bat_first_records.items():\n",
        "  print(\"{:<30} {:<30}\".format(key, value))"
      ],
      "execution_count": 47,
      "outputs": [
        {
          "output_type": "stream",
          "text": [
            "Batting First Win Records for Teams:\n",
            "TEAM                           BAT FIRST MATCH WIN %         \n",
            "Mumbai Indians                 57.43                         \n",
            "Chennai Super Kings            57.3                          \n",
            "SunRisers Hyderabad            47.62                         \n",
            "Rajasthan Royals               43.28                         \n",
            "Deccan Chargers                41.86                         \n",
            "Kings XI Punjab                41.76                         \n",
            "Royal Challengers Bangalore    41.18                         \n",
            "Kolkata Knight Riders          40.96                         \n",
            "Delhi Daredevils               35.9                          \n",
            "Rising Pune Supergiants        33.33                         \n",
            "Pune Warriors India            30.0                          \n",
            "Kochi Tuskers Kerala           28.57                         \n",
            "Gujarat Lions                  7.143                         \n"
          ],
          "name": "stdout"
        }
      ]
    },
    {
      "cell_type": "code",
      "metadata": {
        "colab": {
          "base_uri": "https://localhost:8080/",
          "height": 285
        },
        "id": "OE612WV1DcHO",
        "outputId": "1a8015e3-ff8f-4478-e1b1-5ab5a0b843d6"
      },
      "source": [
        "plt.bar(teams_1,bat_first_match_win_percentage,color=cols,edgecolor=edge)"
      ],
      "execution_count": 48,
      "outputs": [
        {
          "output_type": "execute_result",
          "data": {
            "text/plain": [
              "<BarContainer object of 13 artists>"
            ]
          },
          "metadata": {
            "tags": []
          },
          "execution_count": 48
        },
        {
          "output_type": "display_data",
          "data": {
            "image/png": "[encoded data removed]",
            "text/plain": [
              "<Figure size 432x288 with 1 Axes>"
            ]
          },
          "metadata": {
            "tags": [],
            "needs_background": "light"
          }
        }
      ]
    },
    {
      "cell_type": "code",
      "metadata": {
        "colab": {
          "base_uri": "https://localhost:8080/"
        },
        "id": "lpEdZqBRaZnn",
        "outputId": "95511a04-2d30-4307-9087-75f029c708f4"
      },
      "source": [
        "bat_first=next(iter((bat_first_records.items())))\n",
        "print(\"The Best Target Defending Team is: **\"+bat_first[0]+\"**\\nWith a win percentage of \"+str(bat_first[1])+\" when they bat first.\")"
      ],
      "execution_count": 49,
      "outputs": [
        {
          "output_type": "stream",
          "text": [
            "The Best Target Defending Team is: **Mumbai Indians**\n",
            "With a win percentage of 57.43 when they bat first.\n"
          ],
          "name": "stdout"
        }
      ]
    },
    {
      "cell_type": "code",
      "metadata": {
        "colab": {
          "base_uri": "https://localhost:8080/"
        },
        "id": "cm1IwOADbdMw",
        "outputId": "f1fae822-0ac1-4054-f08e-8409ff5e9958"
      },
      "source": [
        "#Count Number of Second Batting Instances\n",
        "total_bat_second_count=[]\n",
        "bat_second_wins=[]\n",
        "for i in teams:\n",
        "  df_team=matches[(matches[\"team1\"]==i) | (matches[\"team2\"]==i)]\n",
        "  df_i=df_team[((df_team[\"toss_winner\"]==i) & (df_team[\"toss_decision\"]==\"field\"))]\n",
        "  df_j=df_team[((df_team[\"toss_winner\"]!=i) & (df_team[\"toss_decision\"]==\"bat\"))]\n",
        "  total_bat_second_count.append(len(df_i)+len(df_j))\n",
        "  bat_second_wins.append(int(df_i[\"winner\"].str.count(i).sum()+(df_j[\"winner\"].str.count(i).sum())))\n",
        "print(total_bat_second_count)\n",
        "print(bat_second_wins)"
      ],
      "execution_count": 50,
      "outputs": [
        {
          "output_type": "stream",
          "text": [
            "[75, 32, 99, 16, 85, 7, 95, 86, 26, 80, 15, 95, 45]\n",
            "[49, 11, 49, 12, 44, 4, 58, 51, 6, 46, 10, 49, 28]\n"
          ],
          "name": "stdout"
        }
      ]
    },
    {
      "cell_type": "code",
      "metadata": {
        "colab": {
          "base_uri": "https://localhost:8080/"
        },
        "id": "QyhF0x6dbxcj",
        "outputId": "9b0a3aab-58d6-4c82-f5a1-49bde1d1a366"
      },
      "source": [
        "#Batting Second and Winning Percentage\n",
        "bat_second_match_win_percentage=[]\n",
        "for i in range(len(teams)):\n",
        "  bat_second_match_win_percentage.append(float('{0:.4g}'.format(bat_second_wins[i]*100/total_bat_second_count[i])))\n",
        "print(bat_second_match_win_percentage)"
      ],
      "execution_count": 51,
      "outputs": [
        {
          "output_type": "stream",
          "text": [
            "[65.33, 34.38, 49.49, 75.0, 51.76, 57.14, 61.05, 59.3, 23.08, 57.5, 66.67, 51.58, 62.22]\n"
          ],
          "name": "stdout"
        }
      ]
    },
    {
      "cell_type": "code",
      "metadata": {
        "colab": {
          "base_uri": "https://localhost:8080/"
        },
        "id": "KNMcbtchbxRO",
        "outputId": "3a641f2d-87d0-4b19-b277-52e7178b91f1"
      },
      "source": [
        "#Batting Second Records\n",
        "bat_second_records=dict(zip(teams,bat_second_match_win_percentage))\n",
        "bat_second_records=dict(sorted(bat_second_records.items(), key=lambda x: x[1], reverse=True))\n",
        "print(\"Batting Second Win Records for Teams:\")\n",
        "print(\"{:<30} {:<30}\".format('TEAM', 'BAT SECOND MATCH WIN %'))\n",
        "for key, value in bat_second_records.items():\n",
        "  print(\"{:<30} {:<30}\".format(key, value))"
      ],
      "execution_count": 52,
      "outputs": [
        {
          "output_type": "stream",
          "text": [
            "Batting Second Win Records for Teams:\n",
            "TEAM                           BAT SECOND MATCH WIN %        \n",
            "Gujarat Lions                  75.0                          \n",
            "Rising Pune Supergiants        66.67                         \n",
            "Chennai Super Kings            65.33                         \n",
            "SunRisers Hyderabad            62.22                         \n",
            "Kolkata Knight Riders          61.05                         \n",
            "Mumbai Indians                 59.3                          \n",
            "Rajasthan Royals               57.5                          \n",
            "Kochi Tuskers Kerala           57.14                         \n",
            "Kings XI Punjab                51.76                         \n",
            "Royal Challengers Bangalore    51.58                         \n",
            "Delhi Daredevils               49.49                         \n",
            "Deccan Chargers                34.38                         \n",
            "Pune Warriors India            23.08                         \n"
          ],
          "name": "stdout"
        }
      ]
    },
    {
      "cell_type": "code",
      "metadata": {
        "colab": {
          "base_uri": "https://localhost:8080/",
          "height": 282
        },
        "id": "e9mer5YHDiLR",
        "outputId": "318a0044-da36-4812-8427-2a23e2228483"
      },
      "source": [
        "plt.bar(teams_1,bat_second_match_win_percentage,color=cols,edgecolor=edge)"
      ],
      "execution_count": 53,
      "outputs": [
        {
          "output_type": "execute_result",
          "data": {
            "text/plain": [
              "<BarContainer object of 13 artists>"
            ]
          },
          "metadata": {
            "tags": []
          },
          "execution_count": 53
        },
        {
          "output_type": "display_data",
          "data": {
            "image/png": "[encoded data removed]",
            "text/plain": [
              "<Figure size 432x288 with 1 Axes>"
            ]
          },
          "metadata": {
            "tags": [],
            "needs_background": "light"
          }
        }
      ]
    },
    {
      "cell_type": "code",
      "metadata": {
        "colab": {
          "base_uri": "https://localhost:8080/"
        },
        "id": "NCQqsPPXbxF7",
        "outputId": "3cbf986b-37ff-499f-852a-afc489322588"
      },
      "source": [
        "bat_second=next(iter((bat_second_records.items())))\n",
        "print(\"The Best Chasing Team is: **\"+bat_second[0]+\"**\\nWith a win percentage of \"+str(bat_second[1])+\" when they chase a target.\")"
      ],
      "execution_count": 54,
      "outputs": [
        {
          "output_type": "stream",
          "text": [
            "The Best Chasing Team is: **Gujarat Lions**\n",
            "With a win percentage of 75.0 when they chase a target.\n"
          ],
          "name": "stdout"
        }
      ]
    },
    {
      "cell_type": "code",
      "metadata": {
        "id": "mjgtEc4LcAxI"
      },
      "source": [
        "#Stats of players only during overs 1-20 is considered during their IPL careers\n",
        "deliveries=all_deliveries[(all_deliveries[\"inning\"]==1) | (all_deliveries[\"inning\"]==2)]"
      ],
      "execution_count": 55,
      "outputs": []
    },
    {
      "cell_type": "code",
      "metadata": {
        "colab": {
          "base_uri": "https://localhost:8080/"
        },
        "id": "QumBUZjCt_0w",
        "outputId": "33a08831-d603-4582-f440-4005130d1568"
      },
      "source": [
        "#Total Batsmen\n",
        "batsmen=deliveries[\"batsman\"].unique()\n",
        "print(\"Total Number of Batsmen: \",len(batsmen))"
      ],
      "execution_count": 56,
      "outputs": [
        {
          "output_type": "stream",
          "text": [
            "Total Number of Batsmen:  516\n"
          ],
          "name": "stdout"
        }
      ]
    },
    {
      "cell_type": "code",
      "metadata": {
        "colab": {
          "base_uri": "https://localhost:8080/"
        },
        "id": "KgfjqbnZuP3d",
        "outputId": "55e6dba9-85a1-4f4b-ed0e-cd63824a94d4"
      },
      "source": [
        "#Total Batsmen\n",
        "bowlers=deliveries[\"bowler\"].unique()\n",
        "print(\"Total Number of Bowlers: \",len(bowlers))"
      ],
      "execution_count": 57,
      "outputs": [
        {
          "output_type": "stream",
          "text": [
            "Total Number of Bowlers:  405\n"
          ],
          "name": "stdout"
        }
      ]
    },
    {
      "cell_type": "code",
      "metadata": {
        "id": "5Na_6Vc6w1mH"
      },
      "source": [
        "#Total Balls faced by all Batsmen\n",
        "balls_batted=[]\n",
        "for i in batsmen:\n",
        "  balls_batted.append([deliveries[\"batsman\"].str.count(i).sum(),i])"
      ],
      "execution_count": 58,
      "outputs": []
    },
    {
      "cell_type": "code",
      "metadata": {
        "id": "AQjjKx764rF2"
      },
      "source": [
        "#Total Runs scored by Top Batsmen\n",
        "balls_batted.sort(reverse=True)\n",
        "best_batsmen=balls_batted[0:25]\n",
        "high_runs=[]\n",
        "for i in best_batsmen:\n",
        "  df_i=deliveries[deliveries[\"batsman\"]==i[1]]\n",
        "  high_runs.append([df_i[\"batsman_runs\"].sum(),i[1]])"
      ],
      "execution_count": 59,
      "outputs": []
    },
    {
      "cell_type": "code",
      "metadata": {
        "colab": {
          "base_uri": "https://localhost:8080/"
        },
        "id": "brWxZPDS-gmT",
        "outputId": "8c28a9a5-000b-4b79-eb47-e26f401baaea"
      },
      "source": [
        "#Highest Runs List\n",
        "high_runs.sort(reverse=True)\n",
        "high_runs=high_runs[0:10]\n",
        "high_runs_batsmen=[]\n",
        "runs_scored=[]\n",
        "print(\"Highest Run Scorers in IPL from 2008-2019:\")\n",
        "for i in high_runs:\n",
        "  high_runs_batsmen.append(i[1])\n",
        "  runs_scored.append(i[0])\n",
        "  print(i)"
      ],
      "execution_count": 60,
      "outputs": [
        {
          "output_type": "stream",
          "text": [
            "Highest Run Scorers in IPL from 2008-2019:\n",
            "[5429, 'V Kohli']\n",
            "[5407, 'SK Raina']\n",
            "[4914, 'RG Sharma']\n",
            "[4741, 'DA Warner']\n",
            "[4632, 'S Dhawan']\n",
            "[4535, 'CH Gayle']\n",
            "[4477, 'MS Dhoni']\n",
            "[4444, 'RV Uthappa']\n",
            "[4415, 'AB de Villiers']\n",
            "[4223, 'G Gambhir']\n"
          ],
          "name": "stdout"
        }
      ]
    },
    {
      "cell_type": "code",
      "metadata": {
        "colab": {
          "base_uri": "https://localhost:8080/",
          "height": 282
        },
        "id": "zAugnASXEkMY",
        "outputId": "6ce525e5-4a35-4dc3-d1c5-cf3e1868e85a"
      },
      "source": [
        "plt.barh(high_runs_batsmen[::-1], runs_scored[::-1])"
      ],
      "execution_count": 61,
      "outputs": [
        {
          "output_type": "execute_result",
          "data": {
            "text/plain": [
              "<BarContainer object of 10 artists>"
            ]
          },
          "metadata": {
            "tags": []
          },
          "execution_count": 61
        },
        {
          "output_type": "display_data",
          "data": {
            "image/png": "[encoded data removed]",
            "text/plain": [
              "<Figure size 432x288 with 1 Axes>"
            ]
          },
          "metadata": {
            "tags": [],
            "needs_background": "light"
          }
        }
      ]
    },
    {
      "cell_type": "code",
      "metadata": {
        "colab": {
          "base_uri": "https://localhost:8080/"
        },
        "id": "Z6IFJRuyfPBS",
        "outputId": "e4e386ad-392f-4915-bf28-801f6038249b"
      },
      "source": [
        "print(\"The Highest Run Scorer in IPL till 2019 is: \"+str(high_runs[0][1])+\" with \"+str(high_runs[0][0])+\" runs.\")"
      ],
      "execution_count": 62,
      "outputs": [
        {
          "output_type": "stream",
          "text": [
            "The Highest Run Scorer in IPL till 2019 is: V Kohli with 5429 runs.\n"
          ],
          "name": "stdout"
        }
      ]
    },
    {
      "cell_type": "code",
      "metadata": {
        "id": "x4-KPSmFxgTj"
      },
      "source": [
        "#Total Balls bowled by All Bowlers\n",
        "balls_bowled=[]\n",
        "for i in bowlers:\n",
        "  balls_bowled.append([deliveries[\"bowler\"].str.count(i).sum(),i])"
      ],
      "execution_count": 63,
      "outputs": []
    },
    {
      "cell_type": "code",
      "metadata": {
        "id": "EN17bi4M28ta"
      },
      "source": [
        "#Total Wickets taken by Top Bowlers\n",
        "balls_bowled.sort(reverse=True)\n",
        "best_bowlers=balls_bowled[0:25]\n",
        "bowler_deliveries=deliveries[(deliveries[\"dismissal_kind\"]==\"caught\") | (deliveries[\"dismissal_kind\"]==\"bowled\") \n",
        "| (deliveries[\"dismissal_kind\"]==\"lbw\") | (deliveries[\"dismissal_kind\"]==\"stumped\") \n",
        "| (deliveries[\"dismissal_kind\"]==\"caught and bowled\") | (deliveries[\"dismissal_kind\"]==\"hit wicket\")]\n",
        "high_wickets=[]\n",
        "for i in best_bowlers:\n",
        "  df_i=bowler_deliveries[bowler_deliveries[\"bowler\"]==i[1]]\n",
        "  high_wickets.append([df_i[\"dismissal_kind\"].count().sum(),i[1]])"
      ],
      "execution_count": 64,
      "outputs": []
    },
    {
      "cell_type": "code",
      "metadata": {
        "colab": {
          "base_uri": "https://localhost:8080/"
        },
        "id": "YezV-FXC3V3B",
        "outputId": "35aa0ee0-d4df-48e6-e1db-6a19ce7e25dc"
      },
      "source": [
        "#Highest Wickets List\n",
        "high_wickets.sort(reverse=True)\n",
        "high_wickets=high_wickets[0:10]\n",
        "high_wickets_bowlers=[]\n",
        "wickets_taken=[]\n",
        "print(\"Highest Wicket Takers in IPL from 2008-2019:\")\n",
        "for i in high_wickets:\n",
        "  high_wickets_bowlers.append(i[1])\n",
        "  wickets_taken.append(i[0])\n",
        "  print(i)"
      ],
      "execution_count": 65,
      "outputs": [
        {
          "output_type": "stream",
          "text": [
            "Highest Wicket Takers in IPL from 2008-2019:\n",
            "[170, 'SL Malinga']\n",
            "[156, 'A Mishra']\n",
            "[150, 'Harbhajan Singh']\n",
            "[149, 'PP Chawla']\n",
            "[147, 'DJ Bravo']\n",
            "[133, 'B Kumar']\n",
            "[125, 'R Ashwin']\n",
            "[122, 'SP Narine']\n",
            "[119, 'UT Yadav']\n",
            "[108, 'RA Jadeja']\n"
          ],
          "name": "stdout"
        }
      ]
    },
    {
      "cell_type": "code",
      "metadata": {
        "colab": {
          "base_uri": "https://localhost:8080/",
          "height": 282
        },
        "id": "sxc--Ve4HuWQ",
        "outputId": "93704bb5-24c1-456c-fbcc-b09f14a9e4ad"
      },
      "source": [
        "plt.barh(high_wickets_bowlers[::-1],wickets_taken[::-1])"
      ],
      "execution_count": 66,
      "outputs": [
        {
          "output_type": "execute_result",
          "data": {
            "text/plain": [
              "<BarContainer object of 10 artists>"
            ]
          },
          "metadata": {
            "tags": []
          },
          "execution_count": 66
        },
        {
          "output_type": "display_data",
          "data": {
            "image/png": "[encoded data removed]",
            "text/plain": [
              "<Figure size 432x288 with 1 Axes>"
            ]
          },
          "metadata": {
            "tags": [],
            "needs_background": "light"
          }
        }
      ]
    },
    {
      "cell_type": "code",
      "metadata": {
        "colab": {
          "base_uri": "https://localhost:8080/"
        },
        "id": "7XwT2ypVgKPl",
        "outputId": "454c0327-4afa-4741-e10f-a98e918a3a92"
      },
      "source": [
        "print(\"The Highest Wicket Taker in IPL till 2019 is: \"+str(high_wickets[0][1])+\" with \"+str(high_wickets[0][0])+\" wickets.\")"
      ],
      "execution_count": 67,
      "outputs": [
        {
          "output_type": "stream",
          "text": [
            "The Highest Wicket Taker in IPL till 2019 is: SL Malinga with 170 wickets.\n"
          ],
          "name": "stdout"
        }
      ]
    },
    {
      "cell_type": "code",
      "metadata": {
        "colab": {
          "base_uri": "https://localhost:8080/"
        },
        "id": "3XVHAKlfZMbN",
        "outputId": "01f7893d-f450-4105-ce1a-539a36abe5fa"
      },
      "source": [
        "#Total Number of Wicket Keepers\n",
        "stumping_records=deliveries[deliveries[\"dismissal_kind\"]==\"stumped\"]\n",
        "keepers=stumping_records[\"fielder\"].unique()\n",
        "keepers=keepers.tolist()\n",
        "keepers=[a for a in keepers if (isinstance(a,str))]\n",
        "print(\"Total Number of Wicket Keepers: \",len(keepers))\n",
        "print(keepers)"
      ],
      "execution_count": 68,
      "outputs": [
        {
          "output_type": "stream",
          "text": [
            "Total Number of Wicket Keepers:  35\n",
            "['RR Pant', 'MS Dhoni', 'RV Uthappa', 'WP Saha', 'KM Jadhav', 'PA Patel', 'Vishnu Vinod', 'MV Boucher', 'Kamran Akmal', 'SP Goswami', 'YV Takawale', 'AC Gilchrist', 'KD Karthik', 'PR Shah', 'M Rawat', 'NV Ojha', 'KC Sangakkara', 'AP Tare', 'AT Rayudu', 'AB de Villiers', 'DJ Jacobs', 'MS Bisla', 'DH Yagnik', 'KH Devdhar', 'N Saini', 'BB McCullum', 'KB Arun Karthik', 'Q de Kock', 'Gurkeerat Singh', 'CM Gautam', 'SV Samson', 'KL Rahul', 'Ishan Kishan', 'H Klaasen', 'J Bairstow']\n"
          ],
          "name": "stdout"
        }
      ]
    },
    {
      "cell_type": "code",
      "metadata": {
        "colab": {
          "base_uri": "https://localhost:8080/"
        },
        "id": "flw2jFJ_b279",
        "outputId": "7b2ff3d2-3782-4729-b1e9-88cc4acaf52b"
      },
      "source": [
        "#Dismissal Records for Wicket Keepers\n",
        "catch_records=deliveries[(deliveries[\"dismissal_kind\"]==\"caught\") | (deliveries[\"dismissal_kind\"]==\"run out\")]\n",
        "keeping_total=[]\n",
        "for i in range(len(keepers)):\n",
        "  keeping_total.append([int((stumping_records[\"fielder\"].str.count(str(keepers[i])).sum())+(catch_records[\"fielder\"].str.count(str(keepers[i])).sum())),keepers[i]])\n",
        "print(\"The Best Wicket-Keepers are: \")\n",
        "keeping_total.sort(reverse=True)\n",
        "best_keepers=keeping_total[0:10]\n",
        "best_keeps=[]\n",
        "keeps_total=[]\n",
        "for i in best_keepers:\n",
        "  keeps_total.append(i[0])\n",
        "  best_keeps.append(i[1])\n",
        "  print(i)"
      ],
      "execution_count": 69,
      "outputs": [
        {
          "output_type": "stream",
          "text": [
            "The Best Wicket-Keepers are: \n",
            "[159, 'MS Dhoni']\n",
            "[152, 'KD Karthik']\n",
            "[125, 'RV Uthappa']\n",
            "[116, 'AB de Villiers']\n",
            "[97, 'PA Patel']\n",
            "[83, 'WP Saha']\n",
            "[82, 'NV Ojha']\n",
            "[75, 'AC Gilchrist']\n",
            "[65, 'AT Rayudu']\n",
            "[58, 'KC Sangakkara']\n"
          ],
          "name": "stdout"
        }
      ]
    },
    {
      "cell_type": "code",
      "metadata": {
        "colab": {
          "base_uri": "https://localhost:8080/",
          "height": 282
        },
        "id": "r5R5MOrYlfHj",
        "outputId": "cad1bd87-c30c-46cd-b271-1c9b606888fa"
      },
      "source": [
        "plt.barh(best_keeps[::-1],keeps_total[::-1])"
      ],
      "execution_count": 70,
      "outputs": [
        {
          "output_type": "execute_result",
          "data": {
            "text/plain": [
              "<BarContainer object of 10 artists>"
            ]
          },
          "metadata": {
            "tags": []
          },
          "execution_count": 70
        },
        {
          "output_type": "display_data",
          "data": {
            "image/png": "[encoded data removed]",
            "text/plain": [
              "<Figure size 432x288 with 1 Axes>"
            ]
          },
          "metadata": {
            "tags": [],
            "needs_background": "light"
          }
        }
      ]
    },
    {
      "cell_type": "code",
      "metadata": {
        "colab": {
          "base_uri": "https://localhost:8080/"
        },
        "id": "-Ew73ek-mluI",
        "outputId": "44384b0a-9d44-4802-b612-0106715756f2"
      },
      "source": [
        "print(\"The Best Wicket-Keeper in IPL till 2019 is: \"+str(best_keepers[0][1])+\" with \"+str(best_keepers[0][0])+\" dismissals.\")"
      ],
      "execution_count": 71,
      "outputs": [
        {
          "output_type": "stream",
          "text": [
            "The Best Wicket-Keeper in IPL till 2019 is: MS Dhoni with 159 dismissals.\n"
          ],
          "name": "stdout"
        }
      ]
    },
    {
      "cell_type": "code",
      "metadata": {
        "colab": {
          "base_uri": "https://localhost:8080/"
        },
        "id": "_tDDB2vrm2RK",
        "outputId": "d3a9da6e-ea20-46ef-93f3-d568d65f4925"
      },
      "source": [
        "#Total Number of Fielders:\n",
        "fielders=catch_records[\"fielder\"].unique()\n",
        "fielders=[a for a in fielders if (isinstance(a,str))]\n",
        "for i in range(len(fielders)):\n",
        "  if fielders[i].endswith(\"(sub)\"):\n",
        "    fielders[i]=fielders[i][:-6]\n",
        "fielders=list(set(fielders))\n",
        "fielders=[x for x in fielders if x not in keepers]\n",
        "print(\"Total Number of Fielders: \",len(fielders))"
      ],
      "execution_count": 72,
      "outputs": [
        {
          "output_type": "stream",
          "text": [
            "Total Number of Fielders:  417\n"
          ],
          "name": "stdout"
        }
      ]
    },
    {
      "cell_type": "code",
      "metadata": {
        "id": "pV0oodn0ntPN",
        "colab": {
          "base_uri": "https://localhost:8080/"
        },
        "outputId": "80f52439-094f-456c-f2da-259a54d18e96"
      },
      "source": [
        "#Catching Records for Fielders\n",
        "catches_total=[]\n",
        "for i in fielders:\n",
        "  catches_total.append([int(catch_records[\"fielder\"].str.contains(str(i)).sum()),i])\n",
        "print(\"The Best Fielders are: \")\n",
        "catches_total.sort(reverse=True)\n",
        "best_fielders=catches_total[0:10]\n",
        "best_fielders_1=[]\n",
        "catches=[]\n",
        "for i in best_fielders:\n",
        "  catches.append(i[0])\n",
        "  best_fielders_1.append(i[1])\n",
        "  print(i)"
      ],
      "execution_count": 73,
      "outputs": [
        {
          "output_type": "stream",
          "text": [
            "The Best Fielders are: \n",
            "[115, 'SK Raina']\n",
            "[92, 'RG Sharma']\n",
            "[90, 'V Kohli']\n",
            "[85, 'KA Pollard']\n",
            "[81, 'RA Jadeja']\n",
            "[78, 'DJ Bravo']\n",
            "[77, 'MK Pandey']\n",
            "[74, 'S Dhawan']\n",
            "[65, 'DA Warner']\n",
            "[64, 'AM Rahane']\n"
          ],
          "name": "stdout"
        }
      ]
    },
    {
      "cell_type": "code",
      "metadata": {
        "id": "4RQGOcbX699M",
        "colab": {
          "base_uri": "https://localhost:8080/",
          "height": 282
        },
        "outputId": "e413d384-4ed3-417c-b19e-2dbf3c830391"
      },
      "source": [
        "plt.barh(best_fielders_1[::-1],catches[::-1])"
      ],
      "execution_count": 74,
      "outputs": [
        {
          "output_type": "execute_result",
          "data": {
            "text/plain": [
              "<BarContainer object of 10 artists>"
            ]
          },
          "metadata": {
            "tags": []
          },
          "execution_count": 74
        },
        {
          "output_type": "display_data",
          "data": {
            "image/png": "[encoded data removed]",
            "text/plain": [
              "<Figure size 432x288 with 1 Axes>"
            ]
          },
          "metadata": {
            "tags": [],
            "needs_background": "light"
          }
        }
      ]
    },
    {
      "cell_type": "code",
      "metadata": {
        "id": "K-v_Y8V_7H7j",
        "colab": {
          "base_uri": "https://localhost:8080/"
        },
        "outputId": "59c6dcec-36cd-47f4-85fb-436c1ece04da"
      },
      "source": [
        "print(\"The Best Fielder in IPL till 2019 is: \"+str(best_fielders[0][1])+\" with \"+str(best_fielders[0][0])+\" dismissals.\")"
      ],
      "execution_count": 75,
      "outputs": [
        {
          "output_type": "stream",
          "text": [
            "The Best Fielder in IPL till 2019 is: SK Raina with 115 dismissals.\n"
          ],
          "name": "stdout"
        }
      ]
    },
    {
      "cell_type": "code",
      "metadata": {
        "id": "Ni6FQsDiZJui",
        "colab": {
          "base_uri": "https://localhost:8080/",
          "height": 281
        },
        "outputId": "2f8873ec-f715-403e-9aee-04f7f99cc1d4"
      },
      "source": [
        "#Calculating Batsman Stats for Each Year \n",
        "years=[2008,2009,2010,2011,2012,2013,2014,2015,2016,2017,2018,2019]\n",
        "runs_per_year=[0]*12\n",
        "batsman=\"V Kohli\" #Enter batsman name here\n",
        "bats_stats=deliveries[deliveries[\"batsman\"]==batsman]\n",
        "matches_batted=bats_stats[\"match_id\"].unique()\n",
        "match_runs=[]\n",
        "for i in matches_batted:\n",
        "  df_i=bats_stats[bats_stats[\"match_id\"]==i]\n",
        "  season_row=matches[matches[\"id\"]==i]\n",
        "  season=season_row.iloc[0]['season']\n",
        "  season%=2008\n",
        "  runs_per_year[season]+=df_i[\"batsman_runs\"].sum()\n",
        "plt.figure()\n",
        "plt.title(batsman)\n",
        "plt.bar(years,runs_per_year)\n",
        "plt.show()"
      ],
      "execution_count": 76,
      "outputs": [
        {
          "output_type": "display_data",
          "data": {
            "image/png": "[encoded data removed]",
            "text/plain": [
              "<Figure size 432x288 with 1 Axes>"
            ]
          },
          "metadata": {
            "tags": [],
            "needs_background": "light"
          }
        }
      ]
    },
    {
      "cell_type": "code",
      "metadata": {
        "id": "_RSogOGqbb27",
        "colab": {
          "base_uri": "https://localhost:8080/",
          "height": 281
        },
        "outputId": "7f17e456-ffc2-4d19-fa05-33dcd55052b0"
      },
      "source": [
        "#Calculating Bowler Stats for Each Year\n",
        "wickets_per_year=[0]*12\n",
        "bowler=\"SL Malinga\" #Enter bowler name here\n",
        "bowler_stats=bowler_deliveries[bowler_deliveries[\"bowler\"]==bowler]\n",
        "matches_bowled=bowler_stats[\"match_id\"].unique()\n",
        "match_wickets=[]\n",
        "for i in matches_bowled:\n",
        "  df_i=bowler_stats[bowler_stats[\"match_id\"]==i]\n",
        "  season_row=matches[matches[\"id\"]==i]\n",
        "  season=season_row.iloc[0]['season']\n",
        "  season%=2008\n",
        "  wickets_per_year[season]+=len(df_i)\n",
        "plt.figure()\n",
        "plt.title(bowler)\n",
        "plt.bar(years,wickets_per_year)\n",
        "plt.show()"
      ],
      "execution_count": 77,
      "outputs": [
        {
          "output_type": "display_data",
          "data": {
            "image/png": "[encoded data removed]",
            "text/plain": [
              "<Figure size 432x288 with 1 Axes>"
            ]
          },
          "metadata": {
            "tags": [],
            "needs_background": "light"
          }
        }
      ]
    },
    {
      "cell_type": "code",
      "metadata": {
        "id": "kNtGqgPOYZ_9"
      },
      "source": [
        "#Considering that we are a company that wants teams to endorse products\n",
        "teams_eight=[\"Chennai Super Kings\",\"Delhi Capitals\",\"Kings XI Punjab\",\"Kolkata Knight Riders\",\"Mumbai Indians\",\"Rajasthan Royals\",\"Royal Challengers Bangalore\",\"Sunrisers Hyderabad\"]\n",
        "endorse_teams=[]\n",
        "endorse_teams.append(successful[0])\n",
        "endorse_teams.append(consistent[0])\n",
        "endorse_teams.append(fortress[0])\n",
        "endorse_teams.append(attacker[0])\n",
        "endorse_teams.append(win_toss[0])\n",
        "endorse_teams.append(lose_toss[0])\n",
        "endorse_teams=list(set(endorse_teams))\n",
        "endorse_teams=[x for x in endorse_teams if x in teams_eight]"
      ],
      "execution_count": 78,
      "outputs": []
    },
    {
      "cell_type": "code",
      "metadata": {
        "id": "TZcwQ8db1IWA"
      },
      "source": [
        "#Considering that we are a company that wants players to endorse products\n",
        "endorse_players=[]\n",
        "for i in range(0,5):\n",
        "  endorse_players.append(high_runs_batsmen[i])\n",
        "for i in range(0,5):\n",
        "  endorse_players.append(high_wickets_bowlers[i])\n",
        "for i in range(0,5):\n",
        "  endorse_players.append(best_keeps[i])\n",
        "for i in range(0,5):\n",
        "  endorse_players.append(best_fielders_1[i])\n",
        "endorse_players=list(set(endorse_players))"
      ],
      "execution_count": 79,
      "outputs": []
    },
    {
      "cell_type": "code",
      "metadata": {
        "id": "Mr7lsc963uMs",
        "colab": {
          "base_uri": "https://localhost:8080/"
        },
        "outputId": "947e7497-9664-4bfd-8243-1763c4c09848"
      },
      "source": [
        "print(\"The Best Teams for endorsing products are: \")\n",
        "for i in endorse_teams:\n",
        "  print(i)\n",
        "print(\"\\nThe Best Players for endorsing products are: \")\n",
        "endorse_players.sort()\n",
        "for i in endorse_players:\n",
        "  print(i)"
      ],
      "execution_count": 80,
      "outputs": [
        {
          "output_type": "stream",
          "text": [
            "The Best Teams for endorsing products are: \n",
            "Mumbai Indians\n",
            "Chennai Super Kings\n",
            "\n",
            "The Best Players for endorsing products are: \n",
            "A Mishra\n",
            "AB de Villiers\n",
            "DA Warner\n",
            "DJ Bravo\n",
            "Harbhajan Singh\n",
            "KA Pollard\n",
            "KD Karthik\n",
            "MS Dhoni\n",
            "PA Patel\n",
            "PP Chawla\n",
            "RA Jadeja\n",
            "RG Sharma\n",
            "RV Uthappa\n",
            "S Dhawan\n",
            "SK Raina\n",
            "SL Malinga\n",
            "V Kohli\n"
          ],
          "name": "stdout"
        }
      ]
    }
  ]
}